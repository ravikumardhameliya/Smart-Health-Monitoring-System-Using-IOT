{
 "cells": [
  {
   "cell_type": "code",
   "execution_count": 13,
   "metadata": {},
   "outputs": [
    {
     "name": "stdout",
     "output_type": "stream",
     "text": [
      "(-999, False, -999, False)\n",
      "(107, True, 99.43662599999999, True)\n",
      "(88, True, 99.519096, True)\n",
      "(83, True, 99.855786, True)\n",
      "(83, True, 99.59255399999999, True)\n",
      "(125, True, 99.758856, True)\n",
      "(100, True, 99.43662599999999, True)\n",
      "(107, True, 99.657, True)\n",
      "(115, True, 99.848136, True)\n",
      "(136, True, 99.824664, True)\n",
      "(125, True, 99.0534, True)\n",
      "(100, True, 99.8058, True)\n",
      "(115, True, 99.135144, True)\n",
      "(93, True, 99.016626, True)\n",
      "(100, True, 99.771114, True)\n",
      "(88, True, 99.169194, True)\n",
      "(100, True, 99.169194, True)\n",
      "(107, True, 99.373746, True)\n",
      "(100, True, 99.84405, True)\n",
      "(125, True, 99.758856, True)\n",
      "(115, True, 99.758856, True)\n",
      "(88, True, 99.43662599999999, True)\n",
      "(68, True, 99.345144, True)\n",
      "(65, True, 99.373746, True)\n",
      "(65, True, 99.373746, True)\n",
      "(78, True, 99.854424, True)\n",
      "(88, True, 99.712434, True)\n",
      "(83, True, 99.657, True)\n",
      "(93, True, 99.345144, True)\n",
      "(88, True, 99.712434, True)\n",
      "(88, True, 99.855786, True)\n",
      "(68, True, 99.848136, True)\n",
      "(68, True, 99.848136, True)\n",
      "(42, True, 99.854424, True)\n",
      "(71, True, 96.23505, True)\n",
      "(75, True, 98.928594, True)\n",
      "(83, True, 99.43662599999999, True)\n"
     ]
    }
   ],
   "source": [
    "import hrcalc\n",
    "ir = []\n",
    "with open(\"ir.log\", \"r\") as f:\n",
    "     for line in f:\n",
    "         ir.append(int(line))\n",
    "\n",
    "red = []\n",
    "with open(\"red.log\", \"r\") as f:\n",
    "     for line in f:\n",
    "         red.append(int(line))\n",
    "\n",
    "for i in range(37):\n",
    "     print(hrcalc.calc_hr_and_spo2(ir[25*i:25*i+100], red[25*i:25*i+100]))"
   ]
  }
 ],
 "metadata": {
  "kernelspec": {
   "display_name": "Python 3",
   "language": "python",
   "name": "python3"
  },
  "language_info": {
   "codemirror_mode": {
    "name": "ipython",
    "version": 3
   },
   "file_extension": ".py",
   "mimetype": "text/x-python",
   "name": "python",
   "nbconvert_exporter": "python",
   "pygments_lexer": "ipython3",
   "version": "3.7.3"
  }
 },
 "nbformat": 4,
 "nbformat_minor": 2
}
